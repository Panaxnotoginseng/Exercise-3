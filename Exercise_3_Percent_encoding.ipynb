{
  "cells": [
    {
      "cell_type": "markdown",
      "metadata": {
        "id": "view-in-github",
        "colab_type": "text"
      },
      "source": [
        "<a href=\"https://colab.research.google.com/github/Panaxnotoginseng/Exercise-3/blob/main/Exercise_3_Percent_encoding.ipynb\" target=\"_parent\"><img src=\"https://colab.research.google.com/assets/colab-badge.svg\" alt=\"Open In Colab\"/></a>"
      ]
    },
    {
      "cell_type": "code",
      "execution_count": 1,
      "metadata": {
        "id": "pWgq--OvFW4q",
        "colab": {
          "base_uri": "https://localhost:8080/"
        },
        "outputId": "d132eec5-6ea8-4edd-8115-139856f70657"
      },
      "outputs": [
        {
          "output_type": "stream",
          "name": "stdout",
          "text": [
            "{1: '%', 2: '0', 3: '1', 4: '2', 5: '3', 6: '4', 7: '5', 8: '6', 9: '7', 10: '8', 11: '9', 12: 'A', 13: 'B', 14: 'C', 15: 'D', 16: 'E', 17: 'F', 0: '.'}\n"
          ]
        }
      ],
      "source": [
        "import torch\n",
        "import torch.nn.functional as F\n",
        "import matplotlib.pyplot as plt # for making figures\n",
        "%matplotlib inline\n",
        "import urllib.parse\n",
        "from tqdm import tqdm # for showing progress\n",
        "\n",
        "words = open('More Chinese Names.txt', 'r', encoding='utf-8-sig').read().splitlines() # read all the names\n",
        "chars = sorted(list(set(''.join(urllib.parse.quote(str(words)))))) # convert each name to its percent encoding and build a list of characters appeared and mappings to/from integers\n",
        "stoi = {s:i+1 for i,s in enumerate(chars)} # assign a number to each character\n",
        "stoi['.'] = 0 # assign 0 to dot\n",
        "itos = {i:s for s,i in stoi.items()} #create a dictionary that contains all the characters and corresponding number\n",
        "print(itos)"
      ]
    },
    {
      "cell_type": "code",
      "execution_count": 2,
      "metadata": {
        "colab": {
          "base_uri": "https://localhost:8080/"
        },
        "id": "B_ffpC5XfIuy",
        "outputId": "94397ba4-5c23-4534-e118-63be84906362"
      },
      "outputs": [
        {
          "output_type": "stream",
          "name": "stdout",
          "text": [
            "torch.Size([40, 28]) torch.Size([40])\n"
          ]
        }
      ],
      "source": [
        "# build the dataset\n",
        "\n",
        "block_size = 28 # Take 28 characters to make prediction\n",
        "\n",
        "X, Y = [], [] #X is the input of the neural network, Y is the label of each example in X\n",
        "for w in urllib.parse.quote(str(words))[:20]: # take 20 names\n",
        "  context = [0] * block_size\n",
        "  for ch in w + '.':\n",
        "    ix = stoi[ch]\n",
        "    X.append(context) # the running context\n",
        "    Y.append(ix) # the index of X\n",
        "    context = context[1:] + [ix] # crop the context and append a new character in the sequence\n",
        "\n",
        "X = torch.tensor(X)\n",
        "Y = torch.tensor(Y)\n",
        "print(X.shape, Y.shape) # from 20 names we get 40 examples (depending on name length). 28 input at each time."
      ]
    },
    {
      "cell_type": "code",
      "execution_count": 3,
      "metadata": {
        "id": "DqIK4hjkGDid",
        "colab": {
          "base_uri": "https://localhost:8080/"
        },
        "outputId": "86dfd6f9-890f-4512-ad8c-ff8db3008044"
      },
      "outputs": [
        {
          "output_type": "stream",
          "name": "stderr",
          "text": [
            "100%|██████████| 80000/80000 [00:06<00:00, 13266.05it/s]\n"
          ]
        },
        {
          "output_type": "stream",
          "name": "stdout",
          "text": [
            "torch.Size([2125988, 28]) torch.Size([2125988])\n"
          ]
        },
        {
          "output_type": "stream",
          "name": "stderr",
          "text": [
            "100%|██████████| 10000/10000 [00:00<00:00, 12363.35it/s]\n"
          ]
        },
        {
          "output_type": "stream",
          "name": "stdout",
          "text": [
            "torch.Size([265303, 28]) torch.Size([265303])\n"
          ]
        },
        {
          "output_type": "stream",
          "name": "stderr",
          "text": [
            "100%|██████████| 10000/10000 [00:00<00:00, 16714.58it/s]\n"
          ]
        },
        {
          "output_type": "stream",
          "name": "stdout",
          "text": [
            "torch.Size([265870, 28]) torch.Size([265870])\n"
          ]
        }
      ],
      "source": [
        "def build_dataset(words):\n",
        "  X, Y = [], [] #X is the input of the neural network, Y is the label of each example in X\n",
        "  for w in tqdm(words):\n",
        "    context = [0] * block_size #initialize with all dots\n",
        "    for ch in urllib.parse.quote(str(w)) + '.':\n",
        "      ix = stoi[ch]\n",
        "      X.append(context) # the running context\n",
        "      Y.append(ix) # the index of X\n",
        "      context = context[1:] + [ix] # crop the context and append a new character in the sequence\n",
        "\n",
        "  X = torch.tensor(X)\n",
        "  Y = torch.tensor(Y)\n",
        "  print(X.shape, Y.shape)\n",
        "  return X, Y\n",
        "\n",
        "import random\n",
        "random.seed(42)\n",
        "random.shuffle(words)\n",
        "n1 = int(0.8*len(words))\n",
        "n2 = int(0.9*len(words))\n",
        "\n",
        "# separate datasets\n",
        "Xtr, Ytr = build_dataset(words[:n1]) # training set\n",
        "Xdev, Ydev = build_dataset(words[n1:n2]) # validation set\n",
        "Xte, Yte = build_dataset(words[n2:]) #test set"
      ]
    },
    {
      "cell_type": "code",
      "execution_count": 4,
      "metadata": {
        "id": "2kUSyyNMIhgt"
      },
      "outputs": [],
      "source": [
        "g = torch.Generator().manual_seed(2147483647) # for reproducibility\n",
        "C = torch.randn((18, 2), generator=g) # embed 18 different characters in 2 dimentional space\n",
        "W1 = torch.randn((56, 200), generator=g) #set hidden layer with 56 inputs and 200 neurons\n",
        "b1 = torch.randn(200, generator=g) # set bias for the 200 neurons in hidden layer\n",
        "W2 = torch.randn((200, 18), generator=g) #set output layer with 200 inputs and 18 neurons\n",
        "b2 = torch.randn(18, generator=g) # set bias for the 18 neurons in output layer\n",
        "\n",
        "parameters = [C, W1, b1, W2, b2]\n",
        "\n",
        "for p in parameters:\n",
        "  p.requires_grad = True # make sure all parameters have gradient\n"
      ]
    },
    {
      "cell_type": "code",
      "execution_count": 5,
      "metadata": {
        "colab": {
          "base_uri": "https://localhost:8080/",
          "height": 447
        },
        "id": "qRO1aXFpsqG3",
        "outputId": "24a23f54-db4d-4e00-8c67-07608d0ee374"
      },
      "outputs": [
        {
          "output_type": "execute_result",
          "data": {
            "text/plain": [
              "[<matplotlib.lines.Line2D at 0x7ce1e32cf010>]"
            ]
          },
          "metadata": {},
          "execution_count": 5
        },
        {
          "output_type": "display_data",
          "data": {
            "text/plain": [
              "<Figure size 640x480 with 1 Axes>"
            ],
            "image/png": "[encoded data removed]"
          },
          "metadata": {}
        }
      ],
      "source": [
        "# find proper learning rate\n",
        "\n",
        "lre = torch.linspace(-3, 0, 1000)\n",
        "lrs = 10**lre\n",
        "lri = []\n",
        "lossi = []\n",
        "\n",
        "\n",
        "for i in range(1000):\n",
        "\n",
        "  # construct minibatches of 72 examples\n",
        "  ix = torch.randint(0, Xtr.shape[0], (72,))\n",
        "\n",
        "  # forward pass\n",
        "  emb = C[Xtr[ix]]\n",
        "  h = torch.tanh(emb.view(-1, 56) @ W1 + b1) #\n",
        "  logits = h @ W2 + b2 #\n",
        "  loss = F.cross_entropy(logits, Ytr[ix])\n",
        "\n",
        "  # backward pass\n",
        "  for p in parameters:\n",
        "    p.grad = None # set gradient to 0 every time\n",
        "  loss.backward()\n",
        "\n",
        "  # update parameters\n",
        "  lr = lrs[i]\n",
        "  for p in parameters:\n",
        "    p.data += -lr * p.grad\n",
        "\n",
        "  #track status\n",
        "  lri.append(lre[i])\n",
        "  lossi.append(loss.log10().item())\n",
        "\n",
        "plt.plot(lri,lossi) # exponent of the best learning rate is around -1, 10 to -1 is about 0.1"
      ]
    },
    {
      "cell_type": "code",
      "execution_count": 7,
      "metadata": {
        "colab": {
          "base_uri": "https://localhost:8080/"
        },
        "id": "yMGrf_f4Iphu",
        "outputId": "bf97c471-5ff0-4a38-e87b-44addacaaf6e"
      },
      "outputs": [
        {
          "output_type": "stream",
          "name": "stderr",
          "text": [
            "100%|██████████| 300000/300000 [05:11<00:00, 964.44it/s] "
          ]
        },
        {
          "output_type": "stream",
          "name": "stdout",
          "text": [
            "0.9225942492485046\n"
          ]
        },
        {
          "output_type": "stream",
          "name": "stderr",
          "text": [
            "\n"
          ]
        }
      ],
      "source": [
        "# training\n",
        "from tqdm import tqdm\n",
        "for i in tqdm(range(300000)):\n",
        "\n",
        "  # construct minibatches of 80 examples\n",
        "  ix = torch.randint(0, Xtr.shape[0], (80,))\n",
        "\n",
        "  # forward pass\n",
        "  emb = C[Xtr[ix]] # (80, 4, 10)\n",
        "  h = torch.tanh(emb.view(-1, 56) @ W1 + b1) # (80, 100)\n",
        "  logits = h @ W2 + b2 # (80, 687) outcomes\n",
        "  loss = F.cross_entropy(logits, Ytr[ix])\n",
        "\n",
        "  # backward pass\n",
        "  for p in parameters:\n",
        "    p.grad = None # set gradient to 0 every time\n",
        "  loss.backward()\n",
        "\n",
        "  # update parameters\n",
        "  lr = 0.1 if i < 10000 else 0.01\n",
        "  for p in parameters:\n",
        "    p.data += -lr * p.grad\n",
        "\n",
        "print(loss.item())"
      ]
    },
    {
      "cell_type": "code",
      "execution_count": 8,
      "metadata": {
        "colab": {
          "base_uri": "https://localhost:8080/"
        },
        "id": "JE_9gsOIDQoP",
        "outputId": "f4d40da0-5dec-4d61-a633-fcf69f21ac4b"
      },
      "outputs": [
        {
          "output_type": "stream",
          "name": "stdout",
          "text": [
            "tensor(1.0108, grad_fn=<NllLossBackward0>)\n"
          ]
        }
      ],
      "source": [
        "# test on validation set\n",
        "emb = C[Xdev]\n",
        "h = torch.tanh(emb.view(-1, 56) @ W1 + b1)\n",
        "logits = h @ W2 + b2\n",
        "loss = F.cross_entropy(logits, Ydev)\n",
        "print(loss)"
      ]
    },
    {
      "cell_type": "code",
      "execution_count": 9,
      "metadata": {
        "colab": {
          "base_uri": "https://localhost:8080/"
        },
        "id": "Qh-pjz0xJ-18",
        "outputId": "1c63539a-9cf4-4c74-e88b-7592495a5752"
      },
      "outputs": [
        {
          "output_type": "stream",
          "name": "stdout",
          "text": [
            "tensor(1.0071, grad_fn=<NllLossBackward0>)\n"
          ]
        }
      ],
      "source": [
        "# test on test set\n",
        "emb = C[Xte]\n",
        "h = torch.tanh(emb.view(-1, 56) @ W1 + b1)\n",
        "logits = h @ W2 + b2\n",
        "loss = F.cross_entropy(logits, Yte)\n",
        "print(loss)"
      ]
    },
    {
      "cell_type": "code",
      "source": [
        "!pip install zhconv # convert percent encoding back to hanzi"
      ],
      "metadata": {
        "colab": {
          "base_uri": "https://localhost:8080/"
        },
        "id": "aFEz842xZVom",
        "outputId": "9efef014-3b7f-4d10-bc36-7d5f246e4cda"
      },
      "execution_count": 10,
      "outputs": [
        {
          "output_type": "stream",
          "name": "stdout",
          "text": [
            "Collecting zhconv\n",
            "  Downloading zhconv-1.4.3.tar.gz (211 kB)\n",
            "\u001b[2K     \u001b[90m━━━━━━━━━━━━━━━━━━━━━━━━━━━━━━━━━━━━━━━━\u001b[0m \u001b[32m211.6/211.6 kB\u001b[0m \u001b[31m4.6 MB/s\u001b[0m eta \u001b[36m0:00:00\u001b[0m\n",
            "\u001b[?25h  Preparing metadata (setup.py) ... \u001b[?25l\u001b[?25hdone\n",
            "Building wheels for collected packages: zhconv\n",
            "  Building wheel for zhconv (setup.py) ... \u001b[?25l\u001b[?25hdone\n",
            "  Created wheel for zhconv: filename=zhconv-1.4.3-py2.py3-none-any.whl size=208849 sha256=8128ef259c00232dcc3db4295545cb6c242f7cf3ef0f5f485b0e90c395f05bb7\n",
            "  Stored in directory: /root/.cache/pip/wheels/68/73/ff/95fe3e7b41a545b9701416c2178b920713b33022c3d605bdb4\n",
            "Successfully built zhconv\n",
            "Installing collected packages: zhconv\n",
            "Successfully installed zhconv-1.4.3\n"
          ]
        }
      ]
    },
    {
      "cell_type": "code",
      "execution_count": 14,
      "metadata": {
        "colab": {
          "base_uri": "https://localhost:8080/"
        },
        "id": "pCxJKIpUJE6v",
        "outputId": "2318fe57-67a2-453d-fb38-86dd68004c0f"
      },
      "outputs": [
        {
          "output_type": "stream",
          "name": "stdout",
          "text": [
            "吲𫄨.\n",
            "滦巆.\n",
            "晾漗䰠.\n",
            "樵霰到.\n",
            "橍募.\n",
            "珿胰花.\n",
            "佩绰噗.\n",
            "斱滊吸.\n",
            "竬夒.\n",
            "崸箱庁.\n",
            "蟆䅺.\n",
            "京诊帾.\n",
            "俫滣拯.\n",
            "斎氱枉.\n",
            "昽偓朱.\n",
            "晈皣濥.\n",
            "溢嘭䷀.\n",
            "譧舵.\n",
            "頞浰.\n",
            "厇嵃玹.\n"
          ]
        }
      ],
      "source": [
        "# generate names\n",
        "import zhconv\n",
        "g = torch.Generator().manual_seed(2147497997) # for reproducibility\n",
        "\n",
        "for _ in range(20):\n",
        "\n",
        "    out = []\n",
        "    context = [0] * block_size # initialize with all dots\n",
        "    while True:\n",
        "      emb = C[torch.tensor([context])] # (single example,block_size,d)\n",
        "      h = torch.tanh(emb.view(1, -1) @ W1 + b1)\n",
        "      logits = h @ W2 + b2\n",
        "      probs = F.softmax(logits, dim=1) # normalized probability\n",
        "      ix = torch.multinomial(probs, num_samples=1, generator=g).item()\n",
        "      context = context[1:] + [ix]\n",
        "      out.append(ix)\n",
        "      if ix == 0: #generating a dot means the name ends\n",
        "        break\n",
        "\n",
        "    print(zhconv.convert(urllib.parse.unquote(str(''.join(itos[i] for i in out))),'zh-hans'))"
      ]
    }
  ],
  "metadata": {
    "colab": {
      "provenance": [],
      "authorship_tag": "ABX9TyPHPS8aXBLFpxJhekA5fKA9",
      "include_colab_link": true
    },
    "kernelspec": {
      "display_name": "Python 3",
      "name": "python3"
    },
    "language_info": {
      "name": "python"
    }
  },
  "nbformat": 4,
  "nbformat_minor": 0
}