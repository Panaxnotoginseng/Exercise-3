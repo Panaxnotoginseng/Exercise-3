{
  "cells": [
    {
      "cell_type": "markdown",
      "metadata": {
        "id": "view-in-github",
        "colab_type": "text"
      },
      "source": [
        "<a href=\"https://colab.research.google.com/github/Panaxnotoginseng/Exercise-3/blob/main/Exercise_3_Pinyin_.ipynb\" target=\"_parent\"><img src=\"https://colab.research.google.com/assets/colab-badge.svg\" alt=\"Open In Colab\"/></a>"
      ]
    },
    {
      "cell_type": "code",
      "source": [
        "!pip install xpinyin"
      ],
      "metadata": {
        "colab": {
          "base_uri": "https://localhost:8080/"
        },
        "id": "t97t8JdJVJqb",
        "outputId": "26f0eaf5-3eee-46eb-d6b9-d7a3f8684097"
      },
      "execution_count": 1,
      "outputs": [
        {
          "output_type": "stream",
          "name": "stdout",
          "text": [
            "Collecting xpinyin\n",
            "  Downloading xpinyin-0.7.6-py3-none-any.whl (129 kB)\n",
            "\u001b[?25l     \u001b[90m━━━━━━━━━━━━━━━━━━━━━━━━━━━━━━━━━━━━━━━━\u001b[0m \u001b[32m0.0/129.5 kB\u001b[0m \u001b[31m?\u001b[0m eta \u001b[36m-:--:--\u001b[0m\r\u001b[2K     \u001b[91m━━━━━━━━━━━━━━━━━━━━━━━━━━━━━━━━━━━━━\u001b[0m\u001b[91m╸\u001b[0m\u001b[90m━━\u001b[0m \u001b[32m122.9/129.5 kB\u001b[0m \u001b[31m4.3 MB/s\u001b[0m eta \u001b[36m0:00:01\u001b[0m\r\u001b[2K     \u001b[90m━━━━━━━━━━━━━━━━━━━━━━━━━━━━━━━━━━━━━━━━\u001b[0m \u001b[32m129.5/129.5 kB\u001b[0m \u001b[31m3.3 MB/s\u001b[0m eta \u001b[36m0:00:00\u001b[0m\n",
            "\u001b[?25hInstalling collected packages: xpinyin\n",
            "Successfully installed xpinyin-0.7.6\n"
          ]
        }
      ]
    },
    {
      "cell_type": "code",
      "execution_count": 2,
      "metadata": {
        "id": "pWgq--OvFW4q",
        "colab": {
          "base_uri": "https://localhost:8080/"
        },
        "outputId": "1f9e2f2c-c713-4a5e-99b8-7c2b10f57785"
      },
      "outputs": [
        {
          "output_type": "stream",
          "name": "stdout",
          "text": [
            "{1: ' ', 2: \"'\", 3: ',', 4: '-', 5: '[', 6: ']', 7: 'a', 8: 'b', 9: 'c', 10: 'd', 11: 'e', 12: 'f', 13: 'g', 14: 'h', 15: 'i', 16: 'j', 17: 'k', 18: 'l', 19: 'm', 20: 'n', 21: 'o', 22: 'p', 23: 'q', 24: 'r', 25: 's', 26: 't', 27: 'u', 28: 'v', 29: 'w', 30: 'x', 31: 'y', 32: 'z', 0: '.'}\n"
          ]
        }
      ],
      "source": [
        "import re\n",
        "import torch\n",
        "import torch.nn.functional as F\n",
        "import matplotlib.pyplot as plt # for making figures\n",
        "%matplotlib inline\n",
        "from xpinyin import Pinyin\n",
        "from tqdm import tqdm #for showing progress\n",
        "p = Pinyin()\n",
        "\n",
        "words = open('More Chinese Names.txt', 'r', encoding='utf-8-sig').read().splitlines() # read all the names\n",
        "chars = sorted(list(set(''.join(p.get_pinyin((str(words))))))) # get the pinyin of each name, and then build a list of characters appeared and mappings to/from integers\n",
        "stoi = {s:i+1 for i,s in enumerate(chars)} # assign a number to each character\n",
        "stoi['.'] = 0 # assign 0 to dot\n",
        "itos = {i:s for s,i in stoi.items()} #create a dictionary that contains all the characters and corresponding number\n",
        "print(itos)"
      ]
    },
    {
      "cell_type": "code",
      "execution_count": 4,
      "metadata": {
        "colab": {
          "base_uri": "https://localhost:8080/"
        },
        "id": "B_ffpC5XfIuy",
        "outputId": "5f8a563a-cbc3-48b6-f05b-428450c14ba9"
      },
      "outputs": [
        {
          "output_type": "stream",
          "name": "stdout",
          "text": [
            "torch.Size([102, 16]) torch.Size([102])\n"
          ]
        }
      ],
      "source": [
        "# build the dataset\n",
        "\n",
        "block_size = 16 # Chinese names normally have no more than four characters,that would be around 16 letters in pinyin. Take 4 characters to make prediction can prevent generating extremely long names\n",
        "\n",
        "X, Y = [], [] #X is the input of the neural network, Y is the label of each example in X\n",
        "for w in p.get_pinyin((str(words))[:20]): # take 20 names\n",
        "  context = [0] * block_size\n",
        "  for ch in w + '.':\n",
        "    ix = stoi[ch]\n",
        "    X.append(context) # the running context\n",
        "    Y.append(ix) # the index of X\n",
        "    context = context[1:] + [ix] # crop the context and append a new character in the sequence\n",
        "\n",
        "X = torch.tensor(X)\n",
        "Y = torch.tensor(Y)\n",
        "print(X.shape, Y.shape) # from 20 names we get 102 examples (depending on name length). 16 input at each time."
      ]
    },
    {
      "cell_type": "code",
      "execution_count": 5,
      "metadata": {
        "id": "DqIK4hjkGDid",
        "colab": {
          "base_uri": "https://localhost:8080/"
        },
        "outputId": "0de6c484-ef73-4024-cb8d-15caf34ab477"
      },
      "outputs": [
        {
          "output_type": "stream",
          "name": "stderr",
          "text": [
            "100%|██████████| 80000/80000 [00:04<00:00, 16539.90it/s]\n"
          ]
        },
        {
          "output_type": "stream",
          "name": "stdout",
          "text": [
            "torch.Size([979939, 16]) torch.Size([979939])\n"
          ]
        },
        {
          "output_type": "stream",
          "name": "stderr",
          "text": [
            "100%|██████████| 10000/10000 [00:00<00:00, 49099.49it/s]\n"
          ]
        },
        {
          "output_type": "stream",
          "name": "stdout",
          "text": [
            "torch.Size([122465, 16]) torch.Size([122465])\n"
          ]
        },
        {
          "output_type": "stream",
          "name": "stderr",
          "text": [
            "100%|██████████| 10000/10000 [00:00<00:00, 29799.63it/s]\n"
          ]
        },
        {
          "output_type": "stream",
          "name": "stdout",
          "text": [
            "torch.Size([122669, 16]) torch.Size([122669])\n"
          ]
        }
      ],
      "source": [
        "def build_dataset(words):\n",
        "  X, Y = [], [] #X is the input of the neural network, Y is the label of each example in X\n",
        "  for w in tqdm(words):\n",
        "    context = [0] * block_size #initialize with all dots\n",
        "    for ch in p.get_pinyin((str(w))[:20]) + '.':\n",
        "      ix = stoi[ch]\n",
        "      X.append(context) # the running context\n",
        "      Y.append(ix) # the index of X\n",
        "      context = context[1:] + [ix] # crop the context and append a new character in the sequence\n",
        "\n",
        "  X = torch.tensor(X)\n",
        "  Y = torch.tensor(Y)\n",
        "  print(X.shape, Y.shape)\n",
        "  return X, Y\n",
        "\n",
        "import random\n",
        "random.seed(42)\n",
        "random.shuffle(words)\n",
        "n1 = int(0.8*len(words))\n",
        "n2 = int(0.9*len(words))\n",
        "\n",
        "# separate datasets\n",
        "Xtr, Ytr = build_dataset(words[:n1]) # training set\n",
        "Xdev, Ydev = build_dataset(words[n1:n2]) # validation set\n",
        "Xte, Yte = build_dataset(words[n2:]) #test set"
      ]
    },
    {
      "cell_type": "code",
      "execution_count": 6,
      "metadata": {
        "id": "2kUSyyNMIhgt"
      },
      "outputs": [],
      "source": [
        "g = torch.Generator().manual_seed(2147483647) # for reproducibility\n",
        "C = torch.randn((33, 4), generator=g) # embed 33 different characters in 4 dimentional space\n",
        "W1 = torch.randn((64, 200), generator=g) #set hidden layer with 64 inputs and 200 neurons\n",
        "b1 = torch.randn(200, generator=g) # set bias for the 200 neurons in hidden layer\n",
        "W2 = torch.randn((200, 33), generator=g) #set output layer with 200 inputs and 33 neurons\n",
        "b2 = torch.randn(33, generator=g) # set bias for the 33 neurons in output layer\n",
        "\n",
        "parameters = [C, W1, b1, W2, b2]\n",
        "\n",
        "for p in parameters:\n",
        "  p.requires_grad = True # make sure all parameters have gradient\n"
      ]
    },
    {
      "cell_type": "code",
      "execution_count": 7,
      "metadata": {
        "colab": {
          "base_uri": "https://localhost:8080/",
          "height": 447
        },
        "id": "qRO1aXFpsqG3",
        "outputId": "6d994186-eeb8-48a6-eb44-8f41cb6afc4f"
      },
      "outputs": [
        {
          "output_type": "execute_result",
          "data": {
            "text/plain": [
              "[<matplotlib.lines.Line2D at 0x7c04e7fd8850>]"
            ]
          },
          "metadata": {},
          "execution_count": 7
        },
        {
          "output_type": "display_data",
          "data": {
            "text/plain": [
              "<Figure size 640x480 with 1 Axes>"
            ],
            "image/png": "[encoded data removed]"
          },
          "metadata": {}
        }
      ],
      "source": [
        "# find proper learning rate\n",
        "\n",
        "lre = torch.linspace(-3, 0, 1000)\n",
        "lrs = 10**lre\n",
        "lri = []\n",
        "lossi = []\n",
        "\n",
        "\n",
        "for i in range(1000):\n",
        "\n",
        "  # construct minibatches of 100 examples\n",
        "  ix = torch.randint(0, Xtr.shape[0], (100,))\n",
        "\n",
        "  # forward pass\n",
        "  emb = C[Xtr[ix]]\n",
        "  h = torch.tanh(emb.view(-1, 64) @ W1 + b1)\n",
        "  logits = h @ W2 + b2\n",
        "  loss = F.cross_entropy(logits, Ytr[ix])\n",
        "\n",
        "  # backward pass\n",
        "  for p in parameters:\n",
        "    p.grad = None # set gradient to 0 every time\n",
        "  loss.backward()\n",
        "\n",
        "  # update parameters\n",
        "  lr = lrs[i]\n",
        "  for p in parameters:\n",
        "    p.data += -lr * p.grad\n",
        "\n",
        "  #track status\n",
        "  lri.append(lre[i])\n",
        "  lossi.append(loss.log10().item())\n",
        "\n",
        "plt.plot(lri,lossi) # exponent of the best learning rate is around -1, 10 to -1 is about 0.1"
      ]
    },
    {
      "cell_type": "code",
      "execution_count": 8,
      "metadata": {
        "colab": {
          "base_uri": "https://localhost:8080/"
        },
        "id": "yMGrf_f4Iphu",
        "outputId": "d8d25782-01c4-47b8-94ad-1c7eb248efec"
      },
      "outputs": [
        {
          "output_type": "stream",
          "name": "stderr",
          "text": [
            "100%|██████████| 300000/300000 [05:03<00:00, 988.84it/s] "
          ]
        },
        {
          "output_type": "stream",
          "name": "stdout",
          "text": [
            "1.290487289428711\n"
          ]
        },
        {
          "output_type": "stream",
          "name": "stderr",
          "text": [
            "\n"
          ]
        }
      ],
      "source": [
        "# training\n",
        "for i in tqdm(range(300000)):\n",
        "\n",
        "  # construct minibatches of 80 examples\n",
        "  ix = torch.randint(0, Xtr.shape[0], (80,))\n",
        "\n",
        "  # forward pass\n",
        "  emb = C[Xtr[ix]] # (80, 4, 10)\n",
        "  h = torch.tanh(emb.view(-1, 64) @ W1 + b1) # (80, 100)\n",
        "  logits = h @ W2 + b2 # (80, 687) outcomes\n",
        "  loss = F.cross_entropy(logits, Ytr[ix])\n",
        "\n",
        "  # backward pass\n",
        "  for p in parameters:\n",
        "    p.grad = None # set gradient to 0 every time\n",
        "  loss.backward()\n",
        "\n",
        "  # update parameters\n",
        "  lr = 0.1 if i < 10000 else 0.01\n",
        "  for p in parameters:\n",
        "    p.data += -lr * p.grad\n",
        "\n",
        "print(loss.item())"
      ]
    },
    {
      "cell_type": "code",
      "execution_count": 9,
      "metadata": {
        "colab": {
          "base_uri": "https://localhost:8080/"
        },
        "id": "JE_9gsOIDQoP",
        "outputId": "b7979054-47d7-4c2a-a215-b60df94a2d50"
      },
      "outputs": [
        {
          "output_type": "stream",
          "name": "stdout",
          "text": [
            "tensor(1.3255, grad_fn=<NllLossBackward0>)\n"
          ]
        }
      ],
      "source": [
        "# test on validation set\n",
        "emb = C[Xdev]\n",
        "h = torch.tanh(emb.view(-1, 64) @ W1 + b1)\n",
        "logits = h @ W2 + b2\n",
        "loss = F.cross_entropy(logits, Ydev)\n",
        "print(loss)"
      ]
    },
    {
      "cell_type": "code",
      "execution_count": 10,
      "metadata": {
        "colab": {
          "base_uri": "https://localhost:8080/"
        },
        "id": "Qh-pjz0xJ-18",
        "outputId": "e5d1dd7f-88d6-4b37-b678-9f1bd5ace81b"
      },
      "outputs": [
        {
          "output_type": "stream",
          "name": "stdout",
          "text": [
            "tensor(1.3210, grad_fn=<NllLossBackward0>)\n"
          ]
        }
      ],
      "source": [
        "# test on test set\n",
        "emb = C[Xte]\n",
        "h = torch.tanh(emb.view(-1, 64) @ W1 + b1)\n",
        "logits = h @ W2 + b2\n",
        "loss = F.cross_entropy(logits, Yte)\n",
        "print(loss)"
      ]
    },
    {
      "cell_type": "code",
      "source": [
        "!pip install Pinyin2Hanzi #convert the pinyin generated back to hanzi"
      ],
      "metadata": {
        "colab": {
          "base_uri": "https://localhost:8080/"
        },
        "id": "aFEz842xZVom",
        "outputId": "2ae31adc-b52d-4077-e4bc-6822c3bb635b"
      },
      "execution_count": 11,
      "outputs": [
        {
          "output_type": "stream",
          "name": "stdout",
          "text": [
            "Collecting Pinyin2Hanzi\n",
            "  Downloading Pinyin2Hanzi-0.1.1.tar.gz (6.1 MB)\n",
            "\u001b[2K     \u001b[90m━━━━━━━━━━━━━━━━━━━━━━━━━━━━━━━━━━━━━━━━\u001b[0m \u001b[32m6.1/6.1 MB\u001b[0m \u001b[31m17.2 MB/s\u001b[0m eta \u001b[36m0:00:00\u001b[0m\n",
            "\u001b[?25h  Preparing metadata (setup.py) ... \u001b[?25l\u001b[?25hdone\n",
            "Building wheels for collected packages: Pinyin2Hanzi\n",
            "  Building wheel for Pinyin2Hanzi (setup.py) ... \u001b[?25l\u001b[?25hdone\n",
            "  Created wheel for Pinyin2Hanzi: filename=Pinyin2Hanzi-0.1.1-py3-none-any.whl size=6337725 sha256=31ecb94ba485ce6ac2c76e36889eb603590ba28aa9341b761d9f1db3f6940f9c\n",
            "  Stored in directory: /root/.cache/pip/wheels/67/ee/bd/014c4ba22a6d72c4efe23d9c1fd848f8c3df7cff1994e95f23\n",
            "Successfully built Pinyin2Hanzi\n",
            "Installing collected packages: Pinyin2Hanzi\n",
            "Successfully installed Pinyin2Hanzi-0.1.1\n"
          ]
        }
      ]
    },
    {
      "cell_type": "code",
      "execution_count": 15,
      "metadata": {
        "colab": {
          "base_uri": "https://localhost:8080/"
        },
        "id": "pCxJKIpUJE6v",
        "outputId": "5c5798d6-1abe-4737-8e84-2802e08e735d"
      },
      "outputs": [
        {
          "output_type": "stream",
          "name": "stdout",
          "text": [
            "deng-jin-ping\n",
            "等仅凭\n",
            "lu-wen-cheng\n",
            "炉温成\n",
            "zhang-lia-jing\n",
            "章俩经\n",
            "mei-jia-hui\n",
            "美甲会\n",
            "zhang-muu-dao\n",
            "hu-chen-hong\n",
            "户沉红\n",
            "pu-qi-ming\n",
            "曝气名\n",
            "li-di-ling\n",
            "理低龄\n",
            "xu-xi-zing\n",
            "gu-jing-zheng\n",
            "股竞争\n",
            "liu-sheng-hong\n",
            "留声红\n",
            "liu-xi-shan\n",
            "流锡山\n",
            "chen-yin-jin\n",
            "沉吟进\n",
            "fang-fhun-qing\n",
            "yu-yin\n",
            "语音\n",
            "wou-shengua\n",
            "sun-jia-raa\n",
            "li-chu-jian\n",
            "理初见\n",
            "xba-miao-qi\n",
            "xu-shung-hing\n"
          ]
        }
      ],
      "source": [
        "# generate names\n",
        "import Pinyin2Hanzi\n",
        "from Pinyin2Hanzi import simplify_pinyin, DefaultDagParams, dag\n",
        "\n",
        "g = torch.Generator().manual_seed(214749787) # for reproducibility\n",
        "\n",
        "dagparams = DefaultDagParams()\n",
        "\n",
        "for _ in range(20):\n",
        "    out = []\n",
        "    context = [0] * block_size # initialize with all dots\n",
        "    while True:\n",
        "      emb = C[torch.tensor([context])] # (single example,block_size,d)\n",
        "      h = torch.tanh(emb.view(1, -1) @ W1 + b1)\n",
        "      logits = h @ W2 + b2\n",
        "      probs = F.softmax(logits, dim=1) # normalized probability\n",
        "      ix = torch.multinomial(probs, num_samples=1, generator=g).item()\n",
        "      context = context[1:] + [ix]\n",
        "      out.append(ix)\n",
        "      if ix == 0: #generating a dot means the name ends\n",
        "        break\n",
        "    pystr = str(''.join(itos[i] for i in out))\n",
        "    pystr = re.sub(\"\\.\", \"\", pystr) # delete the dot at the end\n",
        "    print(pystr)# show all the generated pinyin, only acceptable pinyin would have a name in hanzi after\n",
        "    pylist = pystr.split(\"-\")\n",
        "    for i in pylist:\n",
        "      i = simplify_pinyin(i) # the method requires one pinyin at a time\n",
        "    result = dag(dagparams, pylist, path_num=1)\n",
        "    for item in result:\n",
        "      print(''.join(item.path))"
      ]
    }
  ],
  "metadata": {
    "colab": {
      "provenance": [],
      "authorship_tag": "ABX9TyMziin7zZoypy0yrr/RG7sU",
      "include_colab_link": true
    },
    "kernelspec": {
      "display_name": "Python 3",
      "name": "python3"
    },
    "language_info": {
      "name": "python"
    }
  },
  "nbformat": 4,
  "nbformat_minor": 0
}